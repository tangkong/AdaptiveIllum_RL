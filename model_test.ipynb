{
 "cells": [
  {
   "cell_type": "code",
   "execution_count": 62,
   "metadata": {},
   "outputs": [],
   "source": [
    "from matplotlib import cm\n",
    "import matplotlib.pyplot as plt\n",
    "import numpy as np\n",
    "import os\n",
    "import pandas as pd\n",
    "from pathlib import Path\n",
    "import scipy\n",
    "from scipy.io import loadmat\n",
    "import sys\n",
    "\n",
    "import matplotlib.animation as animation\n",
    "\n",
    "from evo_strat import evo_strat\n",
    "from simulator import simulator, gen_vornoi_classes"
   ]
  },
  {
   "cell_type": "code",
   "execution_count": 79,
   "metadata": {},
   "outputs": [],
   "source": [
    "###\n",
    "# 1. LOAD DATA\n",
    "# Put the X, Y positions and the classes into a dataframe \n",
    "###\n",
    "\n",
    "sp = os.getcwd()\n",
    "path177 = Path(sp) / 'positions' / '177.csv'\n",
    "locdf = pd.read_csv(path177)\n",
    "locdf = locdf.rename(columns={'Plate Y': 'Y', 'Plate X': 'X'}) \n",
    "locdf['class'] = gen_vornoi_classes(locdf['X'], locdf['Y'], 5)[0]"
   ]
  },
  {
   "cell_type": "code",
   "execution_count": 80,
   "metadata": {},
   "outputs": [
    {
     "data": {
      "text/plain": [
       "<matplotlib.collections.PathCollection at 0x7fe45bd4ac50>"
      ]
     },
     "execution_count": 80,
     "metadata": {},
     "output_type": "execute_result"
    },
    {
     "data": {
      "image/png": "[encoded data removed]",
      "text/plain": [
       "<Figure size 360x360 with 1 Axes>"
      ]
     },
     "metadata": {
      "needs_background": "light"
     },
     "output_type": "display_data"
    }
   ],
   "source": [
    "###\n",
    "# 1.5 Preview data\n",
    "###\n",
    "\n",
    "fig = plt.figure(figsize=(5,5))\n",
    "fig.set_tight_layout(True)\n",
    "plt.scatter(locdf['X'], locdf['Y'], c=locdf['class'], \n",
    "                    cmap=cm.jet, marker='s', edgecolors='k', s=100)"
   ]
  },
  {
   "cell_type": "code",
   "execution_count": 76,
   "metadata": {},
   "outputs": [],
   "source": [
    "###\n",
    "# 2. LOAD MODEL\n",
    "# provided are the neural net in models/exper1_w_bound_nn.npy and \n",
    "# a linear model in models/exper1_w_bound_lin.npy\n",
    "###\n",
    "\n",
    "model = np.load(\"models/exper1_w_bound_nn.npy\")"
   ]
  },
  {
   "cell_type": "code",
   "execution_count": 77,
   "metadata": {},
   "outputs": [],
   "source": [
    "###\n",
    "# 3. SIMULATOR SETTINGS ARGUMENTS\n",
    "###\n",
    "\n",
    "args = {}\n",
    "args[\"nn\"] = True # true if neural net, false if linear model\n",
    "args[\"n_classes\"] = 5 # number of classes\n",
    "args[\"cell_size\"] = 4.5 # the distance between measurement positions in the data\n",
    "args[\"sp\"] = s"
   ]
  },
  {
   "cell_type": "code",
   "execution_count": 81,
   "metadata": {},
   "outputs": [
    {
     "data": {
      "image/png": "[encoded data removed]",
      "text/plain": [
       "<Figure size 720x360 with 2 Axes>"
      ]
     },
     "metadata": {
      "needs_background": "light"
     },
     "output_type": "display_data"
    },
    {
     "name": "stdout",
     "output_type": "stream",
     "text": [
      "Measured Indices\n"
     ]
    }
   ],
   "source": [
    "###\n",
    "# 4. RUN SIMULATION\n",
    "# return a 2D array of the positions measurerd in order of when they were measured\n",
    "# set visual to true if you want to see plots\n",
    "# set plot_all to true to see a plot for every time step\n",
    "###\n",
    "ordered_measurements = simulator(model, args=args, visual=True, plot_all=False, data=locdf)"
   ]
  },
  {
   "cell_type": "code",
   "execution_count": 60,
   "metadata": {},
   "outputs": [],
   "source": [
    "###\n",
    "# 5. SAVE RESULTS\n",
    "###\n",
    "save_file = \"model_test_result.npy\"\n",
    "np.save(save_file, ordered_measurements)"
   ]
  },
  {
   "cell_type": "code",
   "execution_count": 61,
   "metadata": {},
   "outputs": [
    {
     "name": "stderr",
     "output_type": "stream",
     "text": [
      "/home/jbetterton/code/anaconda3/envs/py37/lib/python3.7/site-packages/ipykernel_launcher.py:11: MatplotlibDeprecationWarning: Adding an axes using the same arguments as a previous axes currently reuses the earlier instance.  In a future version, a new instance will always be created and returned.  Meanwhile, this warning can be suppressed, and the future behavior ensured, by passing a unique label to each axes instance.\n",
      "  # This is added back by InteractiveShellApp.init_path()\n"
     ]
    },
    {
     "data": {
      "image/png": "[encoded data removed]",
      "text/plain": [
       "<Figure size 360x360 with 1 Axes>"
      ]
     },
     "metadata": {
      "needs_background": "light"
     },
     "output_type": "display_data"
    }
   ],
   "source": [
    "###\n",
    "# 6. Animate results\n",
    "#    Note: matplotlib's funcanimate will generate temporary png's, briefly cluttering the main working space\n",
    "###\n",
    "\n",
    "fig = plt.figure(figsize=(5,5))\n",
    "fig.set_tight_layout(True)\n",
    "plt.scatter(locdf['X'], locdf['Y'], c=locdf['class'], \n",
    "                    cmap=cm.jet, marker='s', edgecolors='k', s=100, alpha=0.5)\n",
    "plt.title('linear model measurement order')\n",
    "ax = plt.axes()\n",
    "sc = ax.scatter([], [], \n",
    "                c='r', marker='s', edgecolors='k', s=100)\n",
    "\n",
    "def init():\n",
    "    sc.set_offsets([])\n",
    "    return sc,\n",
    "\n",
    "def animate(i):\n",
    "    sc.set_offsets(ordered_measurements[:i])\n",
    "    return sc, \n",
    "\n",
    "anim = animation.FuncAnimation(fig, animate, init_func=init,\n",
    "                        frames=len(ordered_measurements), \n",
    "                        interval=10, blit=True)\n",
    "# Writer = animation.writers['ffmpeg']\n",
    "# writer = Writer(fps=20, metadata=dict(artist='Me'), bitrate=1800)\n",
    "\n",
    "writer = animation.ImageMagickFileWriter(fps=4)\n",
    "\n",
    "anim.save('order_exp1-map2_bound_lin.gif', writer=writer)"
   ]
  },
  {
   "cell_type": "code",
   "execution_count": 48,
   "metadata": {},
   "outputs": [
    {
     "name": "stdout",
     "output_type": "stream",
     "text": [
      " Average reward is -88.525\n"
     ]
    }
   ],
   "source": [
    "###\n",
    "# (Optional) VIEW TRAINING RESULTS\n",
    "###\n",
    "n_trials = 200\n",
    "total_reward = 0\n",
    "for i in range(n_trials):\n",
    "    # print progress bar\n",
    "    out_str = str(i + 1) +  \"/\" + str(n_trials)\n",
    "    sys.stdout.write(\"\\r\" + out_str)\n",
    "    sys.stdout.flush()\n",
    "    # test model \n",
    "    _, reward = simulator(model, args=args, visual=False, plot_all=False, data=None)\n",
    "    total_reward += reward\n",
    "print(\"\\r Average reward is {}\".format(total_reward / n_trials))"
   ]
  },
  {
   "cell_type": "code",
   "execution_count": null,
   "metadata": {},
   "outputs": [],
   "source": []
  }
 ],
 "metadata": {
  "kernelspec": {
   "display_name": "Python [conda env:py37]",
   "language": "python",
   "name": "conda-env-py37-py"
  },
  "language_info": {
   "codemirror_mode": {
    "name": "ipython",
    "version": 3
   },
   "file_extension": ".py",
   "mimetype": "text/x-python",
   "name": "python",
   "nbconvert_exporter": "python",
   "pygments_lexer": "ipython3",
   "version": "3.7.3"
  }
 },
 "nbformat": 4,
 "nbformat_minor": 2
}
