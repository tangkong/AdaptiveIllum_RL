{
 "cells": [
  {
   "cell_type": "code",
   "execution_count": 17,
   "metadata": {},
   "outputs": [],
   "source": [
    "from matplotlib import cm\n",
    "import matplotlib.pyplot as plt\n",
    "import numpy as np\n",
    "import os\n",
    "import pandas as pd\n",
    "from pathlib import Path\n",
    "import scipy\n",
    "from scipy.io import loadmat\n",
    "import sys\n",
    "\n",
    "from evo_strat import evo_strat\n",
    "from simulator import simulator, gen_vornoi_classes"
   ]
  },
  {
   "cell_type": "code",
   "execution_count": 18,
   "metadata": {},
   "outputs": [],
   "source": [
    "###\n",
    "# 1. LOAD DATA\n",
    "# Put the X, Y positions and the classes into a dataframe \n",
    "###\n",
    "\n",
    "sp = '/home/jbetterton/projects/adapt_illum_2/AdaptiveIllum_RL'\n",
    "path177 = Path(sp) / 'positions' / '177.csv'\n",
    "locdf = pd.read_csv(path177)\n",
    "locdf = locdf.rename(columns={'Plate Y': 'Y', 'Plate X': 'X'}) \n",
    "locdf['class'] = gen_vornoi_classes(locdf['X'], locdf['Y'], 5)[0]"
   ]
  },
  {
   "cell_type": "code",
   "execution_count": 19,
   "metadata": {},
   "outputs": [],
   "source": [
    "###\n",
    "# 2. LOAD MODEL\n",
    "# provided are the neural net in models/nn_weights.npy and \n",
    "# a linear model in models/lin_weights.npy\n",
    "###\n",
    "\n",
    "model = np.load(\"models/exper1_w_bound_nn.npy\")"
   ]
  },
  {
   "cell_type": "code",
   "execution_count": 20,
   "metadata": {},
   "outputs": [],
   "source": [
    "###\n",
    "# 3. SIMULATOR SETTINGS ARGUMENTS\n",
    "###\n",
    "\n",
    "args = {}\n",
    "args[\"nn\"] = True # true if neural net, false if linear model\n",
    "args[\"n_classes\"] = 5 # number of classes\n",
    "args[\"cell_size\"] = 4.5 # the distance between measurement positions in the data"
   ]
  },
  {
   "cell_type": "code",
   "execution_count": 21,
   "metadata": {},
   "outputs": [
    {
     "data": {
      "image/png": "[encoded data removed]",
      "text/plain": [
       "<Figure size 720x360 with 2 Axes>"
      ]
     },
     "metadata": {
      "needs_background": "light"
     },
     "output_type": "display_data"
    },
    {
     "name": "stdout",
     "output_type": "stream",
     "text": [
      "Measured Indices\n"
     ]
    }
   ],
   "source": [
    "###\n",
    "# 4. RUN SIMULATION\n",
    "# return a 2D array of the positions measurerd in order of when they were measured\n",
    "# set visual to true if you want to see plots\n",
    "# set plot_all to true to see a plot for every time step\n",
    "###\n",
    "ordered_measurements = simulator(model, args=args, visual=True, plot_all=False, data=locdf)"
   ]
  },
  {
   "cell_type": "code",
   "execution_count": 6,
   "metadata": {},
   "outputs": [],
   "source": [
    "###\n",
    "# 5. SAVE RESULTS\n",
    "###\n",
    "save_file = \"model_test_result.npy\"\n",
    "np.save(save_file, ordered_measurements)"
   ]
  },
  {
   "cell_type": "code",
   "execution_count": 30,
   "metadata": {},
   "outputs": [
    {
     "name": "stdout",
     "output_type": "stream",
     "text": [
      " Average reward is -90.63\n"
     ]
    }
   ],
   "source": [
    "###\n",
    "# (Optional) VIEW TRAINING RESULTS\n",
    "###\n",
    "n_trials = 200\n",
    "total_reward = 0\n",
    "for i in range(n_trials):\n",
    "    # print progress bar\n",
    "    out_str = str(i + 1) +  \"/\" + str(n_trials)\n",
    "    sys.stdout.write(\"\\r\" + out_str)\n",
    "    sys.stdout.flush()\n",
    "    # test model \n",
    "    _, reward = simulator(model, args=args, visual=False, plot_all=False, data=None)\n",
    "    total_reward += reward\n",
    "print(\"\\r Average reward is {}\".format(total_reward / n_trials))"
   ]
  },
  {
   "cell_type": "code",
   "execution_count": null,
   "metadata": {},
   "outputs": [],
   "source": []
  }
 ],
 "metadata": {
  "kernelspec": {
   "display_name": "Python [conda env:py37]",
   "language": "python",
   "name": "conda-env-py37-py"
  },
  "language_info": {
   "codemirror_mode": {
    "name": "ipython",
    "version": 3
   },
   "file_extension": ".py",
   "mimetype": "text/x-python",
   "name": "python",
   "nbconvert_exporter": "python",
   "pygments_lexer": "ipython3",
   "version": "3.7.3"
  }
 },
 "nbformat": 4,
 "nbformat_minor": 2
}
